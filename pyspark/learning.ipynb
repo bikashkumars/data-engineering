{
 "cells": [
  {
   "cell_type": "code",
   "execution_count": 1,
   "id": "b4299366",
   "metadata": {},
   "outputs": [],
   "source": [
    "from pyspark.sql import SparkSession\n",
    "from pyspark.sql.functions import *"
   ]
  },
  {
   "cell_type": "code",
   "execution_count": 2,
   "id": "6a631c5d",
   "metadata": {},
   "outputs": [
    {
     "name": "stderr",
     "output_type": "stream",
     "text": [
      "WARNING: Using incubator modules: jdk.incubator.vector\n",
      "Using Spark's default log4j profile: org/apache/spark/log4j2-defaults.properties\n",
      "25/07/13 14:40:01 WARN Utils: Your hostname, Bikashs-MacBook-Pro.local, resolves to a loopback address: 127.0.0.1; using 192.168.29.73 instead (on interface en0)\n",
      "25/07/13 14:40:01 WARN Utils: Set SPARK_LOCAL_IP if you need to bind to another address\n",
      "Using Spark's default log4j profile: org/apache/spark/log4j2-defaults.properties\n",
      "Setting default log level to \"WARN\".\n",
      "To adjust logging level use sc.setLogLevel(newLevel). For SparkR, use setLogLevel(newLevel).\n",
      "25/07/13 14:40:02 WARN NativeCodeLoader: Unable to load native-hadoop library for your platform... using builtin-java classes where applicable\n"
     ]
    }
   ],
   "source": [
    "spark_session = SparkSession.builder \\\n",
    "                    .appName(\"MySpark\") \\\n",
    "                    .getOrCreate()"
   ]
  },
  {
   "cell_type": "code",
   "execution_count": 3,
   "id": "66aeac39",
   "metadata": {},
   "outputs": [],
   "source": [
    "df_csv = spark_session.read.csv(\"data/customers-10000.csv\")"
   ]
  },
  {
   "cell_type": "code",
   "execution_count": 4,
   "id": "7d29e2c4",
   "metadata": {},
   "outputs": [
    {
     "name": "stdout",
     "output_type": "stream",
     "text": [
      "root\n",
      " |-- _c0: string (nullable = true)\n",
      " |-- _c1: string (nullable = true)\n",
      " |-- _c2: string (nullable = true)\n",
      " |-- _c3: string (nullable = true)\n",
      " |-- _c4: string (nullable = true)\n",
      " |-- _c5: string (nullable = true)\n",
      " |-- _c6: string (nullable = true)\n",
      " |-- _c7: string (nullable = true)\n",
      " |-- _c8: string (nullable = true)\n",
      " |-- _c9: string (nullable = true)\n",
      " |-- _c10: string (nullable = true)\n",
      " |-- _c11: string (nullable = true)\n",
      "\n"
     ]
    }
   ],
   "source": [
    "df_csv.printSchema()"
   ]
  },
  {
   "cell_type": "code",
   "execution_count": 5,
   "id": "3393ef1e",
   "metadata": {},
   "outputs": [
    {
     "data": {
      "text/plain": [
       "10001"
      ]
     },
     "execution_count": 5,
     "metadata": {},
     "output_type": "execute_result"
    }
   ],
   "source": [
    "df_csv.count()"
   ]
  },
  {
   "cell_type": "code",
   "execution_count": 6,
   "id": "eebf731e",
   "metadata": {},
   "outputs": [
    {
     "name": "stdout",
     "output_type": "stream",
     "text": [
      "+-----+---------------+----------+---------+--------------------+------------------+--------------------+--------------------+--------------------+--------------------+-----------------+--------------------+\n",
      "|  _c0|            _c1|       _c2|      _c3|                 _c4|               _c5|                 _c6|                 _c7|                 _c8|                 _c9|             _c10|                _c11|\n",
      "+-----+---------------+----------+---------+--------------------+------------------+--------------------+--------------------+--------------------+--------------------+-----------------+--------------------+\n",
      "|Index|    Customer Id|First Name|Last Name|             Company|              City|             Country|             Phone 1|             Phone 2|               Email|Subscription Date|             Website|\n",
      "|    1|EB54EF1154C3A78|   Heather| Callahan|        Mosley-David|  Lake Jeffborough|              Norway|        043-797-5229|        915.112.1727|urangel@espinoza-...|       2020-08-26|http://www.escoba...|\n",
      "|    2|10dAcafEBbA5FcA|  Kristina|  Ferrell|Horn, Shepard and...|        Aaronville|             Andorra|        932-062-1802|  (209)172-7124x3651|xreese@hall-donov...|       2020-04-27|https://tyler-pug...|\n",
      "|    3|67DAB15Ebe4BE4a|    Briana| Andersen|         Irwin-Oneal|       East Jordan|               Nepal|          8352752061|       (567)135-1918|haleybraun@blevin...|       2022-03-22|https://www.mack-...|\n",
      "|    4|6d350C5E5eDB4EE|     Patty|    Ponce|    Richardson Group|  East Kristintown|Northern Mariana ...|        302.398.3833|    196-189-7767x770|hohailey@anthony.com|       2020-07-02|https://delacruz-...|\n",
      "|    5|5820deAdCF23EFe|  Kathleen|Mccormick|        Carson-Burch|       Andresmouth|               Macao|001-184-153-9683x...|    552.051.2979x342|alvaradojesse@ran...|       2021-01-17| https://welch.info/|\n",
      "|    6|E1CDEaC63fDd5aA|    Trevor|      Lee|        Maddox Group|Lake Madelineburgh|             Senegal|+1-134-348-0265x9132|     +1-313-882-4167|briangriffin@chan...|       2021-08-13|https://www.rober...|\n",
      "|    7|3e1187fCcebC8d2|    Mathew|  Hoffman|Bender, Pittman a...|        West Ralph|          Uzbekistan|        842.380.1168| (178)178-5447x32603|bauergerald@morri...|       2020-04-09|http://www.holt.com/|\n",
      "|    8|47C5cEE243c9A7b|     Glenn|  Wiggins|        Glenn-Harvey|        Ambershire|Falkland Islands ...|    245-207-5608x563|          8806867785|changkellie@howel...|       2021-04-02| http://carlson.com/|\n",
      "|    9|cacaD68a5e4BF4b|     Bruce|    Payne|Arroyo, Cain and ...|       Barrettview|            Zimbabwe|  391.313.4649x42910|        166.227.5055|mayerjerome@hurst...|       2020-11-26|https://www.glenn...|\n",
      "|   10|436b9c41cfb1fa3|   Brendan|   Franco|Schaefer, Blair a...|        New Rickey|             Ukraine|    001-315-224-3556|   254-621-7128x7573|kentryan@stone-on...|       2021-06-29|    http://ruiz.com/|\n",
      "|   11|9653ca648e2E414|    Martin|  Hawkins|           Lopez Inc|       Lake Bobton|          Mauritania|    001-402-567-1320|        732-908-7945|danielbuckley@hat...|       2021-05-02|https://www.newma...|\n",
      "|   12|e586A2D67bcdB48|      Sara|  Shaffer|Dudley, Coleman a...|           Orrland|              Gambia|          4229986278|001-028-824-7381x...|gabrielaleach@ros...|       2021-04-07|https://www.hoffm...|\n",
      "|   13|c388ECa44FFe37c|      Dave|    Moran|     Harrell-Donovan|   South Elizabeth|              Sweden|   575.006.7250x9748|        262-029-1096|cartermallory@chu...|       2020-02-28|https://hinton.info/|\n",
      "|   14|f8dddbf9CD6FF92|      Glen|  Hammond|Schaefer, Chung a...|        Pamelatown|         Netherlands|001-887-543-3745x055|001-955-888-1987x...|   lweeks@hooper.org|       2022-03-03|https://bush-huyn...|\n",
      "|   15|86Df56BFCc0a7CA| Catherine|Blackwell|Mack, Garcia and ...|         Lake Seth|  Dominican Republic|001-915-961-8896x...|  (310)185-3032x0974|calhounalisha@har...|       2021-03-30|https://barker-bi...|\n",
      "|   16|2cfDE68A372cC7A|     Larry|   Newton|           Downs PLC|          Mannstad|              Belize|       (216)514-1412|001-449-365-5864x147|   ypayne@gaines.biz|       2020-08-09|https://figueroa....|\n",
      "|   17|14CBc0BDfbE6FEA|     Danny|   Archer|Castro, Haney and...|      East Diamond|        Cook Islands|          8416559700|001-212-234-3412x...|  nwu@brady-chen.com|       2021-05-21|http://www.callah...|\n",
      "|   18|48b3ACBfD6A5cdC|       Kim|  Griffin|        Tyler-Levine|     New Gwendolyn|Saint Kitts and N...|   597.367.9499x5429|   506.141.4174x6326| harold11@mullen.org|       2021-06-02|http://www.mclaug...|\n",
      "|   19|dB52fA7Bec665C1|   Kristin| Valencia|         Liu-Douglas|      Martinezstad|French Southern T...|   443-671-1725x7073|          6244311825|andrewsanders@mar...|       2021-04-17|http://www.myers....|\n",
      "+-----+---------------+----------+---------+--------------------+------------------+--------------------+--------------------+--------------------+--------------------+-----------------+--------------------+\n",
      "only showing top 20 rows\n"
     ]
    }
   ],
   "source": [
    "df_csv.show()"
   ]
  },
  {
   "cell_type": "code",
   "execution_count": 7,
   "id": "e2a4ebcd",
   "metadata": {},
   "outputs": [
    {
     "name": "stdout",
     "output_type": "stream",
     "text": [
      "+--------------------+----------------+----------------+-----------------+-------+\n",
      "|                 bio|              id|        language|             name|version|\n",
      "+--------------------+----------------+----------------+-----------------+-------+\n",
      "|Donec lobortis el...|V59OF92YF627HFY0|          Sindhi|    Adeel Solangi|    6.1|\n",
      "|Aliquam sollicitu...|ENTOCR13RSCLZ6KU|          Sindhi|    Afzal Ghaffar|   1.88|\n",
      "|Vestibulum pharet...|IAKPO3R4761JDRVG|          Sindhi|    Aamir Solangi|   7.27|\n",
      "|Donec lobortis el...|5ZVOEPMJUI4MB4EN|          Uyghur|    Abla Dilmurat|   2.53|\n",
      "|Vivamus id faucib...|6VTI8X6LL0MMPJCC|          Uyghur|         Adil Eli|   6.49|\n",
      "|Duis commodo orci...|F2KEU5L7EHYSYFTT|          Uyghur|      Adile Qadir|    1.9|\n",
      "|Vivamus id faucib...|LO6DVTZLRK68528I|          Uyghur|Abdukerim Ibrahim|    5.9|\n",
      "|Etiam malesuada b...|LJRIULRNJFCNZJAJ|          Sindhi|        Adil Abro|   9.32|\n",
      "|Fusce eu ultrices...|JMCL0CXNXHPL1GBC|        Galician| Afonso Vilarchán|   5.21|\n",
      "|Nam laoreet, nunc...|KU4T500C830697CW|         Maltese|    Mark Schembri|   3.17|\n",
      "|Pellentesque mass...|XOF91ZR7MHV1TXRS|        Galician|    Antía Sixirei|   6.44|\n",
      "|Duis commodo orci...|FTSNV411G5MKLPDT|          Uyghur|   Aygul Mutellip|    9.1|\n",
      "|Nunc aliquet soda...|OJMWMEEQWMLDU29P|          Sindhi|     Awais Shaikh|   1.59|\n",
      "|Vestibulum ante i...|5G646V7E6TJW8X2M|          Sindhi|    Ambreen Ahmed|   2.35|\n",
      "|Nullam ac sodales...|Z53AJY7WUYPLAWC9|        Galician|      Celtia Anes|   8.34|\n",
      "|Phasellus tincidu...|N1AS6UFULO6WGTLB|         Maltese|    George Mifsud|   7.47|\n",
      "|Curabitur ultrici...|70RODUVRD95CLOJL|          Uyghur|     Aytürk Qasim|   1.32|\n",
      "|Maecenas non arcu...|VBLI24FKF7VV6BWE|Sesotho sa Leboa|       Dialè Meso|   6.29|\n",
      "|Integer vehicula,...|4VRLON0GPEZYFCVL|        Galician|    Breixo Galáns|   1.62|\n",
      "|Ut viverra quis e...|5DRDI1QLRGLP29RC|        Galician|     Bieito Lorme|   4.45|\n",
      "+--------------------+----------------+----------------+-----------------+-------+\n",
      "only showing top 20 rows\n"
     ]
    }
   ],
   "source": [
    "df_json = spark_session.read.option(\"multiline\", True).json(\"data/json_data.json\")\n",
    "df_json.show()"
   ]
  },
  {
   "cell_type": "code",
   "execution_count": 8,
   "id": "d237c3a5",
   "metadata": {},
   "outputs": [
    {
     "name": "stdout",
     "output_type": "stream",
     "text": [
      "root\n",
      " |-- bio: string (nullable = true)\n",
      " |-- id: string (nullable = true)\n",
      " |-- language: string (nullable = true)\n",
      " |-- name: string (nullable = true)\n",
      " |-- version: double (nullable = true)\n",
      "\n"
     ]
    }
   ],
   "source": [
    "df_json.printSchema()"
   ]
  },
  {
   "cell_type": "code",
   "execution_count": 9,
   "id": "7d5e3257",
   "metadata": {},
   "outputs": [
    {
     "name": "stdout",
     "output_type": "stream",
     "text": [
      "+----------------+-----------------+\n",
      "|              id|             name|\n",
      "+----------------+-----------------+\n",
      "|V59OF92YF627HFY0|    Adeel Solangi|\n",
      "|ENTOCR13RSCLZ6KU|    Afzal Ghaffar|\n",
      "|IAKPO3R4761JDRVG|    Aamir Solangi|\n",
      "|5ZVOEPMJUI4MB4EN|    Abla Dilmurat|\n",
      "|6VTI8X6LL0MMPJCC|         Adil Eli|\n",
      "|F2KEU5L7EHYSYFTT|      Adile Qadir|\n",
      "|LO6DVTZLRK68528I|Abdukerim Ibrahim|\n",
      "|LJRIULRNJFCNZJAJ|        Adil Abro|\n",
      "|JMCL0CXNXHPL1GBC| Afonso Vilarchán|\n",
      "|KU4T500C830697CW|    Mark Schembri|\n",
      "|XOF91ZR7MHV1TXRS|    Antía Sixirei|\n",
      "|FTSNV411G5MKLPDT|   Aygul Mutellip|\n",
      "|OJMWMEEQWMLDU29P|     Awais Shaikh|\n",
      "|5G646V7E6TJW8X2M|    Ambreen Ahmed|\n",
      "|Z53AJY7WUYPLAWC9|      Celtia Anes|\n",
      "|N1AS6UFULO6WGTLB|    George Mifsud|\n",
      "|70RODUVRD95CLOJL|     Aytürk Qasim|\n",
      "|VBLI24FKF7VV6BWE|       Dialè Meso|\n",
      "|4VRLON0GPEZYFCVL|    Breixo Galáns|\n",
      "|5DRDI1QLRGLP29RC|     Bieito Lorme|\n",
      "+----------------+-----------------+\n",
      "only showing top 20 rows\n"
     ]
    }
   ],
   "source": [
    "df_json.select(\"id\", \"name\").show()"
   ]
  },
  {
   "cell_type": "code",
   "execution_count": 10,
   "id": "2a2b5206",
   "metadata": {},
   "outputs": [],
   "source": [
    "df_json.write.mode(\"overwrite\").parquet(\"data/json_data.parquet\")"
   ]
  },
  {
   "cell_type": "code",
   "execution_count": 11,
   "id": "15e28dc3",
   "metadata": {},
   "outputs": [],
   "source": [
    "df_json.createOrReplaceTempView(\"my_json\")\n",
    "\n",
    "df_json_sql = spark_session.sql(\"\"\"SELECT id, name\n",
    "FROM my_json WHERE name = 'Adeel Solangi' ORDER BY id DESC\"\"\")"
   ]
  },
  {
   "cell_type": "code",
   "execution_count": 12,
   "id": "b28e8b38",
   "metadata": {},
   "outputs": [
    {
     "name": "stdout",
     "output_type": "stream",
     "text": [
      "+----------------+-------------+\n",
      "|              id|         name|\n",
      "+----------------+-------------+\n",
      "|V59OF92YF627HFY0|Adeel Solangi|\n",
      "|V59OF92YF627HFY0|Adeel Solangi|\n",
      "|V59OF92YF627HFY0|Adeel Solangi|\n",
      "|V59OF92YF627HFY0|Adeel Solangi|\n",
      "|V59OF92YF627HFY0|Adeel Solangi|\n",
      "|V59OF92YF627HFY0|Adeel Solangi|\n",
      "|V59OF92YF627HFY0|Adeel Solangi|\n",
      "|V59OF92YF627HFY0|Adeel Solangi|\n",
      "|V59OF92YF627HFY0|Adeel Solangi|\n",
      "|V59OF92YF627HFY0|Adeel Solangi|\n",
      "|V59OF92YF627HFY0|Adeel Solangi|\n",
      "|V59OF92YF627HFY0|Adeel Solangi|\n",
      "|V59OF92YF627HFY0|Adeel Solangi|\n",
      "|V59OF92YF627HFY0|Adeel Solangi|\n",
      "|V59OF92YF627HFY0|Adeel Solangi|\n",
      "|V59OF92YF627HFY0|Adeel Solangi|\n",
      "|V59OF92YF627HFY0|Adeel Solangi|\n",
      "|V59OF92YF627HFY0|Adeel Solangi|\n",
      "|V59OF92YF627HFY0|Adeel Solangi|\n",
      "|V59OF92YF627HFY0|Adeel Solangi|\n",
      "+----------------+-------------+\n",
      "only showing top 20 rows\n"
     ]
    }
   ],
   "source": [
    "df_json_sql.show()"
   ]
  },
  {
   "cell_type": "code",
   "execution_count": 14,
   "id": "1d23a954",
   "metadata": {},
   "outputs": [
    {
     "data": {
      "text/plain": [
       "'\\n#######Transformations Actions#######\\norderBy() show()\\ngroupBy() take()\\nfilter() count()\\nselect() collect()\\njoin() save()\\n\\n\\nfilter() and contains() represent narrow transformations\\ngroupBy() or orderBy() instruct Spark to perform wide transformations\\n'"
      ]
     },
     "execution_count": 14,
     "metadata": {},
     "output_type": "execute_result"
    }
   ],
   "source": [
    "'''\n",
    "#######Transformations Actions#######\n",
    "orderBy() show()\n",
    "groupBy() take()\n",
    "filter() count()\n",
    "select() collect()\n",
    "join() save()\n",
    "\n",
    "\n",
    "filter() and contains() represent narrow transformations\n",
    "groupBy() or orderBy() instruct Spark to perform wide transformations\n",
    "'''"
   ]
  },
  {
   "cell_type": "code",
   "execution_count": 15,
   "id": "c57d2f47",
   "metadata": {},
   "outputs": [],
   "source": [
    "from pyspark.sql import Row"
   ]
  },
  {
   "cell_type": "code",
   "execution_count": 18,
   "id": "fdca0ef5",
   "metadata": {},
   "outputs": [
    {
     "name": "stdout",
     "output_type": "stream",
     "text": [
      "+-------------+------+------+-------+-----------+\n",
      "|         name|   org|module|release|num_commits|\n",
      "+-------------+------+------+-------+-----------+\n",
      "|Adeel Solangi|Apache| Spark|  3.0.0|        100|\n",
      "+-------------+------+------+-------+-----------+\n",
      "\n"
     ]
    }
   ],
   "source": [
    "rows = [Row(name=\"Adeel Solangi\", org=\"Apache\", module=\"Spark\", release=\"3.0.0\", num_commits=100),]\n",
    "df_rows = spark_session.createDataFrame(rows)\n",
    "df_rows.show()"
   ]
  },
  {
   "cell_type": "code",
   "execution_count": 19,
   "id": "9ce3ca66",
   "metadata": {},
   "outputs": [
    {
     "name": "stdout",
     "output_type": "stream",
     "text": [
      "+-------+-----+\n",
      "|Authors|State|\n",
      "+-------+-----+\n",
      "| Bikash|15000|\n",
      "|   Rozy|35000|\n",
      "+-------+-----+\n",
      "\n"
     ]
    }
   ],
   "source": [
    "rows = [Row(name=\"Bikash\", salary=15000), Row(name=\"Rozy\", salary=35000)]\n",
    "authors_df = spark_session.createDataFrame(rows, [\"Authors\", \"State\"])\n",
    "authors_df.show()"
   ]
  },
  {
   "cell_type": "code",
   "execution_count": null,
   "id": "caaa3045",
   "metadata": {},
   "outputs": [
    {
     "name": "stdout",
     "output_type": "stream",
     "text": [
      "+----------------+-------------+\n",
      "|              id|         name|\n",
      "+----------------+-------------+\n",
      "|V59OF92YF627HFY0|Adeel Solangi|\n",
      "+----------------+-------------+\n",
      "\n"
     ]
    }
   ],
   "source": [
    "df_json_sql.distinct().show()"
   ]
  },
  {
   "cell_type": "code",
   "execution_count": 24,
   "id": "97f89aa3",
   "metadata": {},
   "outputs": [
    {
     "name": "stdout",
     "output_type": "stream",
     "text": [
      "+----------------+---------------+\n",
      "|              id|           name|\n",
      "+----------------+---------------+\n",
      "|5K1K8V1OUUFKQ2UV|   Nobuhle Xaba|\n",
      "|6ZQTOKQI6K82EE9Q|Mapula Selokela|\n",
      "+----------------+---------------+\n",
      "only showing top 2 rows\n"
     ]
    }
   ],
   "source": [
    "df_json.select(\"id\", \"name\").where(col(\"name\").isNotNull()).distinct().show(2)"
   ]
  },
  {
   "cell_type": "code",
   "execution_count": 25,
   "id": "4737acc1",
   "metadata": {},
   "outputs": [
    {
     "name": "stdout",
     "output_type": "stream",
     "text": [
      "+--------------------+----------------+----------------+-----------------+-------+\n",
      "|                 bio|              id|        language|    employee_name|version|\n",
      "+--------------------+----------------+----------------+-----------------+-------+\n",
      "|Donec lobortis el...|V59OF92YF627HFY0|          Sindhi|    Adeel Solangi|    6.1|\n",
      "|Aliquam sollicitu...|ENTOCR13RSCLZ6KU|          Sindhi|    Afzal Ghaffar|   1.88|\n",
      "|Vestibulum pharet...|IAKPO3R4761JDRVG|          Sindhi|    Aamir Solangi|   7.27|\n",
      "|Donec lobortis el...|5ZVOEPMJUI4MB4EN|          Uyghur|    Abla Dilmurat|   2.53|\n",
      "|Vivamus id faucib...|6VTI8X6LL0MMPJCC|          Uyghur|         Adil Eli|   6.49|\n",
      "|Duis commodo orci...|F2KEU5L7EHYSYFTT|          Uyghur|      Adile Qadir|    1.9|\n",
      "|Vivamus id faucib...|LO6DVTZLRK68528I|          Uyghur|Abdukerim Ibrahim|    5.9|\n",
      "|Etiam malesuada b...|LJRIULRNJFCNZJAJ|          Sindhi|        Adil Abro|   9.32|\n",
      "|Fusce eu ultrices...|JMCL0CXNXHPL1GBC|        Galician| Afonso Vilarchán|   5.21|\n",
      "|Nam laoreet, nunc...|KU4T500C830697CW|         Maltese|    Mark Schembri|   3.17|\n",
      "|Pellentesque mass...|XOF91ZR7MHV1TXRS|        Galician|    Antía Sixirei|   6.44|\n",
      "|Duis commodo orci...|FTSNV411G5MKLPDT|          Uyghur|   Aygul Mutellip|    9.1|\n",
      "|Nunc aliquet soda...|OJMWMEEQWMLDU29P|          Sindhi|     Awais Shaikh|   1.59|\n",
      "|Vestibulum ante i...|5G646V7E6TJW8X2M|          Sindhi|    Ambreen Ahmed|   2.35|\n",
      "|Nullam ac sodales...|Z53AJY7WUYPLAWC9|        Galician|      Celtia Anes|   8.34|\n",
      "|Phasellus tincidu...|N1AS6UFULO6WGTLB|         Maltese|    George Mifsud|   7.47|\n",
      "|Curabitur ultrici...|70RODUVRD95CLOJL|          Uyghur|     Aytürk Qasim|   1.32|\n",
      "|Maecenas non arcu...|VBLI24FKF7VV6BWE|Sesotho sa Leboa|       Dialè Meso|   6.29|\n",
      "|Integer vehicula,...|4VRLON0GPEZYFCVL|        Galician|    Breixo Galáns|   1.62|\n",
      "|Ut viverra quis e...|5DRDI1QLRGLP29RC|        Galician|     Bieito Lorme|   4.45|\n",
      "+--------------------+----------------+----------------+-----------------+-------+\n",
      "only showing top 20 rows\n"
     ]
    }
   ],
   "source": [
    "new_json_df = df_json.withColumnRenamed(\"name\", \"employee_name\")\n",
    "new_json_df.show()"
   ]
  },
  {
   "cell_type": "code",
   "execution_count": null,
   "id": "a8402ffa",
   "metadata": {},
   "outputs": [],
   "source": [
    "fire_ts_df = (new_fire_df\n",
    ".withColumn(\"IncidentDate\", to_timestamp(col(\"CallDate\"), \"MM/dd/yyyy\"))\n",
    ".drop(\"CallDate\")\n",
    ".withColumn(\"OnWatchDate\", to_timestamp(col(\"WatchDate\"), \"MM/dd/yyyy\"))\n",
    ".drop(\"WatchDate\")\n",
    ".withColumn(\"AvailableDtTS\", to_timestamp(col(\"AvailableDtTm\"),\n",
    "\"MM/dd/yyyy hh:mm:ss a\"))\n",
    ".drop(\"AvailableDtTm\"))"
   ]
  }
 ],
 "metadata": {
  "kernelspec": {
   "display_name": "spark",
   "language": "python",
   "name": "python3"
  },
  "language_info": {
   "codemirror_mode": {
    "name": "ipython",
    "version": 3
   },
   "file_extension": ".py",
   "mimetype": "text/x-python",
   "name": "python",
   "nbconvert_exporter": "python",
   "pygments_lexer": "ipython3",
   "version": "3.11.13"
  }
 },
 "nbformat": 4,
 "nbformat_minor": 5
}
